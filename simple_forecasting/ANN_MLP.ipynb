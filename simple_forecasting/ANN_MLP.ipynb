{
 "cells": [
  {
   "cell_type": "code",
   "execution_count": 6,
   "metadata": {},
   "outputs": [],
   "source": [
    "import numpy as np\n",
    "from sklearn import preprocessing\n",
    "from sklearn.metrics import mean_squared_error, classification_report\n",
    "import matplotlib.pylab as plt \n",
    "import datetime as dt\n",
    "import time\n",
    "\n",
    "from keras.models import Sequential\n",
    "#from keras.layers.containers import Graph\n",
    "from keras.layers.core import Dense, Dropout, Activation, Flatten\n",
    "from keras.layers.recurrent import LSTM, GRU \n",
    "from keras.layers import Convolution1D, MaxPooling1D\n",
    "from keras.callbacks import Callback\n",
    "\n",
    "\n"
   ]
  },
  {
   "cell_type": "code",
   "execution_count": 7,
   "metadata": {},
   "outputs": [],
   "source": [
    "import numpy as np\n",
    "from sklearn import preprocessing\n",
    "from sklearn.metrics import mean_squared_error, classification_report\n",
    "import matplotlib.pylab as plt\n",
    "import datetime as dt\n",
    "import time\n",
    "import pandas as pd\n",
    "\n",
    "def load_snp_returns():\n",
    "    f=pd.read_csv('/Users/adashaw/Desktop/Deep-Trading/other_LTSM_model/AAPL_data.csv',header=0)\n",
    "    raw_data = f['Open'].values-f['Close'].values\n",
    "    raw_dates= f['Date'].values\n",
    "    return raw_data, raw_dates\n",
    "\n",
    "\n",
    "def load_snp_close():\n",
    "    f=pd.read_csv('/Users/adashaw/Desktop/Deep-Trading/other_LTSM_model/AAPL_data.csv',header=0)\n",
    "    raw_data = f['close'].values\n",
    "    raw_dates= f['date'].values\n",
    "    return raw_data, raw_dates\n",
    "\n",
    "\n",
    "def split_into_chunks(data, train, predict, step, binary=True, scale=True):\n",
    "    #takes in timeseries\n",
    "    X, Y = [], []\n",
    "    for i in range(0, len(data), step):\n",
    "        try:\n",
    "            x_i = data[i:i+train]\n",
    "            y_i = data[i+train+predict]\n",
    "\n",
    "            # Use it only for daily return time series\n",
    "            if binary:\n",
    "                if y_i > 0.:\n",
    "                    y_i = [1., 0.]\n",
    "                else:\n",
    "                    y_i = [0., 1.]\n",
    "\n",
    "                if scale: x_i = preprocessing.scale(x_i)\n",
    "\n",
    "            else:\n",
    "                timeseries = np.array(data[i:i+train+predict])\n",
    "                if scale: timeseries = preprocessing.scale(timeseries)\n",
    "                x_i = timeseries[:-1]\n",
    "                y_i = timeseries[-1]\n",
    "\n",
    "        except:\n",
    "            break\n",
    "\n",
    "        X.append(x_i) #train only\n",
    "        Y.append(y_i) #train and predict\n",
    "\n",
    "    return X, Y\n",
    "\n",
    "\n",
    "def shuffle_in_unison(a, b):\n",
    "    # courtsey http://stackoverflow.com/users/190280/josh-bleecher-snyder\n",
    "    assert len(a) == len(b)\n",
    "    shuffled_a = np.empty(a.shape, dtype=a.dtype)\n",
    "    shuffled_b = np.empty(b.shape, dtype=b.dtype)\n",
    "    permutation = np.random.permutation(len(a))\n",
    "    for old_index, new_index in enumerate(permutation):\n",
    "        shuffled_a[new_index] = a[old_index]\n",
    "        shuffled_b[new_index] = b[old_index]\n",
    "    return shuffled_a, shuffled_b\n",
    "\n",
    "\n",
    "def create_Xt_Yt(X, y, percentage=0.8):\n",
    "    X_train = X[0:int(len(X) * percentage)]\n",
    "    Y_train = y[0:int(len(y) * percentage)]\n",
    "    #X_train = np.expand_dims(X_train,axis=1)\n",
    "    X_train, Y_train = shuffle_in_unison(X_train, Y_train)\n",
    "\n",
    "    X_test = X[int(len(X) * percentage):]\n",
    "    Y_test = y[int(len(X) * percentage):]\n",
    "\n",
    "    return X_train, X_test, Y_train, Y_test\n",
    "\n"
   ]
  },
  {
   "cell_type": "code",
   "execution_count": 8,
   "metadata": {},
   "outputs": [],
   "source": [
    "class TrainingHistory(Callback):\n",
    "    def on_train_begin(self, logs={}):\n",
    "        self.losses = []\n",
    "        self.accuracy = []\n",
    "        self.predictions = []\n",
    "        self.i = 0 \n",
    "        self.save_every = 5000\n",
    "\n",
    "    def on_batch_end(self, batch, logs={}):\n",
    "        self.losses.append(logs.get('loss'))\n",
    "        self.accuracy.append(logs.get('acc'))\n",
    "        self.i += 1    \n",
    "        if self.i % self.save_every == 0:    \n",
    "            pred = model.predict(X_train)\n",
    "            self.predictions.append(pred)"
   ]
  },
  {
   "cell_type": "code",
   "execution_count": 9,
   "metadata": {},
   "outputs": [
    {
     "name": "stdout",
     "output_type": "stream",
     "text": [
      "Data loading...\n",
      "Building model...\n"
     ]
    },
    {
     "data": {
      "image/png": "[encoded data removed]",
      "text/plain": [
       "<matplotlib.figure.Figure at 0x1a200abef0>"
      ]
     },
     "metadata": {},
     "output_type": "display_data"
    }
   ],
   "source": [
    "TARGET_TIME = 1 \n",
    "LAG_SIZE = 1 \n",
    "\n",
    "print('Data loading...')  \n",
    "timeseries, dates = load_snp_close()\n",
    "dates = [dt.datetime.strptime(d,'%Y-%m-%d').date() for d in dates]\n",
    "plt.plot(dates, timeseries)\n",
    "plt.savefig('data.png')\n",
    "TRAIN_SIZE = 20\n",
    "TARGET_TIME = 1 \n",
    "LAG_SIZE = 1 \n",
    "X, Y = split_into_chunks(timeseries, TRAIN_SIZE, TARGET_TIME, LAG_SIZE, binary=False, scale=True)\n",
    "X, Y = np.array(X), np.array(Y)\n",
    "X_train, X_test, Y_train, Y_test = create_Xt_Yt(X, Y, percentage=0.9)\n",
    "\n",
    "Xp, Yp = split_into_chunks(timeseries, TRAIN_SIZE, TARGET_TIME, LAG_SIZE, binary=False, scale=False)\n",
    "Xp, Yp = np.array(Xp), np.array(Yp)\n",
    "X_trainp, X_testp, Y_trainp, Y_testp = create_Xt_Yt(Xp, Yp, percentage=0.9)\n",
    "\n",
    "\n",
    "print('Building model...')\n",
    "model = Sequential()\n",
    "model.add(Dense(500, input_shape = (TRAIN_SIZE, )))\n",
    "model.add(Activation('relu'))\n",
    "model.add(Dropout(0.25))\n",
    "model.add(Dense(250))\n",
    "model.add(Activation('relu'))\n",
    "model.add(Dense(1))\n",
    "model.add(Activation('linear'))\n",
    "model.compile(optimizer='adam',\n",
    "              loss='mse')"
   ]
  },
  {
   "cell_type": "code",
   "execution_count": 25,
   "metadata": {},
   "outputs": [
    {
     "name": "stdout",
     "output_type": "stream",
     "text": [
      "Train on 1002 samples, validate on 112 samples\n",
      "Epoch 1/5\n",
      "1002/1002 [==============================] - 0s 27us/step - loss: 0.0219 - val_loss: 0.0187\n",
      "Epoch 2/5\n",
      "1002/1002 [==============================] - 0s 26us/step - loss: 0.0218 - val_loss: 0.0147\n",
      "Epoch 3/5\n",
      "1002/1002 [==============================] - 0s 26us/step - loss: 0.0187 - val_loss: 0.0128\n",
      "Epoch 4/5\n",
      "1002/1002 [==============================] - 0s 25us/step - loss: 0.0196 - val_loss: 0.0140\n",
      "Epoch 5/5\n",
      "1002/1002 [==============================] - 0s 25us/step - loss: 0.0189 - val_loss: 0.0134\n",
      "124/124 [==============================] - 0s 10us/step\n",
      "0.009760974906384945\n",
      "------------\n",
      "[[-1.33961397 -1.17095359 -1.82101506 ...  0.92331113 -0.06761291\n",
      "  -1.16039903]\n",
      " [-1.04737059 -1.65161978 -0.6619535  ... -0.02178648 -1.03755985\n",
      "  -0.90692562]\n",
      " [-1.44001007 -0.5424009  -0.55129905 ... -0.88306897 -0.76458611\n",
      "  -1.81624092]\n",
      " ...\n",
      " [-0.75202049 -0.92673699 -1.81649695 ...  1.18603847  0.84631194\n",
      "   1.32516457]\n",
      " [-1.0030768  -1.87679754 -1.15875795 ...  0.73801035  1.20823097\n",
      "   1.06843565]\n",
      " [-1.94749763 -1.24797264 -1.33154421 ...  1.05798365  0.92179294\n",
      "   0.97441208]]\n",
      "------------\n",
      "MSE: 31857.654\n"
     ]
    },
    {
     "data": {
      "image/png": "[encoded data removed]",
      "text/plain": [
       "<matplotlib.figure.Figure at 0x1a21c185c0>"
      ]
     },
     "metadata": {},
     "output_type": "display_data"
    },
    {
     "data": {
      "text/plain": [
       "<matplotlib.figure.Figure at 0x1a21c187b8>"
      ]
     },
     "metadata": {},
     "output_type": "display_data"
    }
   ],
   "source": [
    "model.fit(X_train,\n",
    "          Y_train,\n",
    "          epochs=5,\n",
    "          batch_size = 128,\n",
    "          verbose=1,\n",
    "          validation_split=0.1)\n",
    "score = model.evaluate(X_test, Y_test, batch_size=128)\n",
    "print(score)\n",
    "\n",
    "\n",
    "params = []\n",
    "for xt in X_testp:\n",
    "    xt = np.array(xt)\n",
    "    mean_ = xt.mean()\n",
    "    scale_ = xt.std()\n",
    "    params.append([mean_, scale_])\n",
    "print('------------')\n",
    "print(X_test)\n",
    "print('------------')\n",
    "predicted = model.predict(X_test)\n",
    "new_predicted = []\n",
    "\n",
    "for pred, par in zip(predicted, params):\n",
    "    a = pred*par[1]\n",
    "    a += par[0]\n",
    "    new_predicted.append(a)\n",
    "\n",
    "\n",
    "mse = mean_squared_error(predicted, new_predicted)\n",
    "print('MSE: '+ str(mse))\n",
    "\n",
    "try:\n",
    "    fig = plt.figure()\n",
    "    #plt.plot(Y_test[:150], color='black') # BLUE - trained RESULT\n",
    "    #plt.plot(predicted[:150], color='blue') # RED - trained PREDICTION\n",
    "    plt.plot(Y_testp[:150], color='green') # GREEN - actual RESULT\n",
    "    plt.plot(new_predicted[:150], color='red') # ORANGE - restored PREDICTION\n",
    "    plt.show()\n",
    "    plt.savefig('test.png')\n",
    "except Exception as e:\n",
    "    print(str(e))"
   ]
  },
  {
   "cell_type": "code",
   "execution_count": null,
   "metadata": {},
   "outputs": [],
   "source": []
  },
  {
   "cell_type": "code",
   "execution_count": null,
   "metadata": {},
   "outputs": [],
   "source": []
  },
  {
   "cell_type": "code",
   "execution_count": 15,
   "metadata": {},
   "outputs": [
    {
     "name": "stdout",
     "output_type": "stream",
     "text": [
      "[[173.180875, 2.816915366651083], [173.22601500000002, 2.7603012241918474], [173.071245, 3.025936715213159], [172.959135, 3.248942190971548], [172.71954, 3.554199346181922], [172.49879500000003, 3.7913024964350988], [171.877235, 4.7697363082538455], [170.959035, 5.963965795028927], [170.39749999999998, 6.2686464057242866], [169.66383000000002, 6.765358375659046], [168.714375, 7.5314856711591105], [167.80995000000001, 7.930266453310381], [167.12953, 7.807526373576973], [166.574945, 7.634971132982429], [166.02692499999998, 7.1985534593329925], [165.75088499999998, 6.836789810084481], [165.48664, 6.488107160597762], [165.26592999999997, 6.20926972454088], [165.00438499999998, 5.8673827595679295], [164.95395499999998, 5.803757030706489], [165.20721999999995, 6.1104030642503435], [165.61347999999998, 6.670460435802013], [166.16694999999999, 7.172621440414934], [166.75608, 7.5786262761532175], [167.16699, 7.753217369189387], [167.62081, 7.961211087384882], [168.46614, 7.923323121291974], [169.50291499999997, 7.470615887882], [170.13358499999998, 7.319904277330066], [171.03251500000002, 6.901201069543982], [172.30063, 5.898790686835734], [173.56127, 4.83851939327518], [174.420955, 4.209682084727422], [175.12324500000003, 3.4707863982784954], [175.68508, 2.934173605565971], [175.93561500000004, 2.8493118353867506], [176.07856500000003, 2.7046682577120267], [176.247415, 2.491189342718655], [176.25737999999998, 2.468122602424768], [176.07557999999997, 2.8856034842992555], [175.54960999999997, 3.859733180532044], [175.2408, 3.8757579448412414], [174.74023000000003, 4.161192961171111], [174.16047, 4.536107475369164], [173.80086, 4.786751678894572], [173.32619, 5.05463475919873], [172.90631000000002, 5.151254286957691], [172.65428, 5.117344385577347], [172.54321, 5.103254862820394], [172.116855, 5.131015322962405], [171.62226, 4.886804779751284], [171.20038499999998, 4.396751315150196], [170.825335, 3.993052165108162], [170.61116, 3.7212716391577727], [170.41591499999998, 3.4206756363728767], [170.30634, 3.226851140570322], [170.45277500000003, 3.476390814030405], [170.582275, 3.670079865190264], [170.65848, 3.6856999232981495], [170.502585, 3.8486671286661043], [170.51752500000003, 3.825093530343408], [170.02791000000002, 4.198833238639039], [169.79431000000005, 4.4449627532635185], [169.68174000000002, 4.57040482237624], [169.409785, 4.86607667081757], [169.33905499999997, 4.924476842211263], [169.37442000000001, 4.9154206662909345], [169.62147, 5.108805147204188], [169.82518499999998, 5.2832758249286025], [170.59471499999998, 5.995399812462468], [171.347315, 6.7010033348204665], [171.98486, 7.362321429304755], [172.72799500000002, 8.024252243759227], [173.51994499999998, 8.802393954400985], [174.2465, 9.396545185385959], [174.89676500000002, 9.874069287850629], [175.34099500000002, 10.178840833733231], [175.89215, 10.55377448145923], [176.634835, 10.783476622419832], [177.69616, 10.637938295807137], [178.84739499999998, 10.402207325393732], [180.08969, 9.820901093580977], [181.35662, 9.148691811597985], [182.58466, 8.289385956776295], [183.928835, 6.847521944928326], [185.092575, 5.262248318055223], [186.04505, 3.636743113900132], [186.59395999999998, 2.793600031393187], [187.29542999999998, 1.6081396438431619], [187.730735, 1.59832906445294], [188.17379499999998, 1.8374462344447007], [188.606025, 2.11474878126812], [188.947005, 2.311009439720011], [189.0665, 2.387224905617398], [189.1985, 2.4298359512526746], [189.405, 2.506247194512144], [189.618, 2.4249115447784875], [189.74900000000002, 2.4144355448013086], [189.84150000000002, 2.341292965435977], [189.96300000000002, 2.214493395790557], [189.866, 2.3527333040529674], [189.83300000000003, 2.3947110472873323], [189.688, 2.5615007319928664], [189.5265, 2.7483854806049313], [189.20600000000002, 3.179939307596925], [189.03249999999997, 3.3372351954874273], [188.8655, 3.4898258910725057], [188.79699999999997, 3.541386875222758], [188.5405, 3.6126465022196683], [188.308, 3.5424096318748903], [187.8385, 3.469864946939578], [187.4095, 3.204268208187324], [187.135, 2.894350531639179], [187.079, 2.8152387110154633], [187.03499999999997, 2.756277380816382], [186.815, 2.49175941856352], [186.8315, 2.5183809779300703], [186.858, 2.5624043396778773], [186.9615, 2.679500466504907], [187.097, 2.830289914478729], [187.33249999999998, 2.8985494216935495], [187.6015, 3.054269593536237], [187.90050000000002, 3.1219488704974028], [188.235, 3.1430120903362764]]\n"
     ]
    }
   ],
   "source": [
    "print(X_test)"
   ]
  }
 ],
 "metadata": {
  "kernelspec": {
   "display_name": "Python 3",
   "language": "python",
   "name": "python3"
  },
  "language_info": {
   "codemirror_mode": {
    "name": "ipython",
    "version": 3
   },
   "file_extension": ".py",
   "mimetype": "text/x-python",
   "name": "python",
   "nbconvert_exporter": "python",
   "pygments_lexer": "ipython3",
   "version": "3.6.4"
  }
 },
 "nbformat": 4,
 "nbformat_minor": 2
}
